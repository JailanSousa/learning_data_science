{
 "cells": [
  {
   "cell_type": "code",
   "execution_count": 1,
   "id": "05b3ab1a",
   "metadata": {},
   "outputs": [],
   "source": [
    "import requests\n",
    "from bs4 import BeautifulSoup"
   ]
  },
  {
   "cell_type": "code",
   "execution_count": 2,
   "id": "32833ebe",
   "metadata": {},
   "outputs": [],
   "source": [
    "reviews_list = []"
   ]
  },
  {
   "cell_type": "code",
   "execution_count": 3,
   "id": "2ff0fb1d",
   "metadata": {},
   "outputs": [],
   "source": [
    "def get_reviews(url):\n",
    "    \n",
    "    headers = {\n",
    "    'Accept': 'text/html,application/xhtml+xml,application/xml;q=0.9,image/avif,image/webp,*/*;q=0.8',\n",
    "    'Accept-Encoding': 'gzip, deflate, br',\n",
    "    'Accept-Language': 'pt-BR,pt;q=0.9,en-US;q=0.8,en;q=0.7',\n",
    "    'cache-control': 'max-age=0',\n",
    "    'Referer': 'https://www.amazon.com.br/',\n",
    "    'Cookie': 'session-id=134-4067927-3599447; ubid-acbbr=130-7929701-8683109; lc-acbbr=pt_BR; x-acbbr=\"5YxoNlG5YqxaXySziDmskPyDG@NvGndvKCyPB6RNf8?L1xQGycv7AyDUAWqudzXV\"; at-acbbr=Atza|IwEBIGu6uZKb3Lx5ApnSIr04q-zYLG0oNaLyVC3rbrtfrAcUZfaCvs333E4i45FMT5KiP0OPkkK_XrBPCBmfIrAEeY1vbaRPBuCz5CmT1sjD34HBWcOMGZuJrrLW5MJNxV6QuQKhvQTKvhp4fm8MpGfhAMa3Abi7aRemKb2c_71PeSiat_4fMPGd0FvX52jYnXwcPqWLvLbvvonUbGOEFutQW6DakyQ_M9DyhQssUyV5rsXhqw; sess-at-acbbr=\"+9owGmykJjfUQKe14OfJKwk4fjpMcLU9NCtSEYkOjIo=\"; sst-acbbr=Sst1|PQGMeN6WIveYXurbrMXe1yirDO-dLYEs_NPv4bm9xMiMNMJ07-Vx0hZOyBmKrk5NqgZ46-C9LY8k7SlWwydOSeiTQgat25EpHjIMbEAQqHGHzXtscjfOMiJBF1a25Ksk40EpMLw30pecbMMmJKUw_TqCTodDNGRk5EqDn99lko_tcLwfu6eJs8nKrmsXxFQHZMcUrDqfs0KPp3uMU-7ZOSDZKKPIek4Ica1iOZxeqeQFYiYC4qPQfIua2Yoh9KFFegRVymGpmw1-wQqjy8kjk_IpUp3otEdj-eYUVsQ3FZpNUs5fYNrcQ4ngyHz6S63Rm0w6sdQFws2n7NVz7p79IhgMm0Czx1uDiLtb4Vqf8FJ6JOk; i18n-prefs=BRL; session-token=WPXYemVQ2dc3tCxg1qxt5j5p2G2V/RrZRDuCHjBPupuN45liO8Q6xTiPM0amvUU9EiJ9fvjA0Qx0OyWXJM/0nkdYg5IYbvteBdJtABJbvz2exBTsI09TFRUYSKYNKMEECwAjPF3SkDJqbb5xyCX2p4RCsVEcfG3vUdsiiD4n6ipNaw3KtBsRU2q/JH0w+s1DMj7Lb2YU+Sc95XcSnGQA1FHB4MBvICCucT702RLu39ybx3NbgJmp4LgaeNbZORr/EzchIaB6JCBusTkQL0O6R2Gl5lonZS4gOjFsBSHh6VAsr8mI4crt0zuHMO7+GBt6aBWOBbCj3s7uvrKPS/W+2UBhdywiZQ9cAKVX2BJv0/u5BCXG+Xrsglrzg+xOB6dQwEk7Z4dQnJ8=; session-id-time=2082787201l',\n",
    "    'upgrade-insecure-requests': '1',\n",
    "    'Sec-Ch-Ua': '\"Google Chrome\";v=\"117\", \"Not;A=Brand\";v=\"8\", \"Chromium\";v=\"117\"',\n",
    "    'Sec-Ch-Ua-Mobile': '?0',\n",
    "    'Sec-Ch-Ua-Platform': 'Linux',\n",
    "    'Sec-Fetch-Dest': 'document',\n",
    "    'Sec-Fetch-Mode': 'navigate',\n",
    "    'Sec-Fetch-Site': 'same-site',\n",
    "    'User-Agent': 'Mozilla/5.0 (X11; Linux x86_64) AppleWebKit/537.36 (KHTML, like Gecko) Chrome/117.0.0.0 Safari/537.36'\n",
    "    }\n",
    "    \n",
    "    response = requests.get(url, headers=headers)\n",
    "    status_code = response.status_code\n",
    "    reviews = response.text if status_code == 200 else None\n",
    "    soup = BeautifulSoup(reviews, 'html.parser')\n",
    "    return soup"
   ]
  },
  {
   "cell_type": "code",
   "execution_count": 4,
   "id": "261b241b",
   "metadata": {},
   "outputs": [],
   "source": [
    "def reviews(soup):\n",
    "    \n",
    "    reviews = soup.find_all('div', {'data-hook': 'review'})\n",
    "    \n",
    "    try:\n",
    "        for items in reviews:\n",
    "            \n",
    "            \n",
    "            title_and_rate = items.find('a', attrs={\"data-hook\": \"review-title\"}).text.strip()\n",
    "            part = title_and_rate.rstrip().split('\\n')\n",
    "            title = part[1]\n",
    "            rate = part[0]\n",
    "            \n",
    "            review = {\n",
    "            'product': soup.title.text.replace('Amazon.com.br:Avaliações de clientes:', '').strip(),\n",
    "            'title': title,\n",
    "            'rate': rate,\n",
    "            'body': items.find('span', {'data-hook': \"review-body\"}).text.strip(),\n",
    "            }\n",
    "            \n",
    "            reviews_list.append(review)\n",
    "    except:\n",
    "        pass"
   ]
  },
  {
   "cell_type": "code",
   "execution_count": 5,
   "id": "200d4b53",
   "metadata": {},
   "outputs": [
    {
     "name": "stdout",
     "output_type": "stream",
     "text": [
      "getting page: 1\n",
      "10\n",
      "getting page: 2\n",
      "20\n",
      "getting page: 3\n",
      "30\n",
      "getting page: 4\n",
      "40\n",
      "getting page: 5\n",
      "50\n",
      "getting page: 6\n",
      "60\n",
      "getting page: 7\n",
      "70\n",
      "getting page: 8\n",
      "80\n",
      "getting page: 9\n",
      "90\n",
      "getting page: 10\n",
      "100\n"
     ]
    }
   ],
   "source": [
    "# screpping multiple pages\n",
    "for x in range(1, 200):\n",
    "    URL = f\"https://www.amazon.com.br/Celular-Xiaomi-Redmi-Vers%C3%A3o-Global/product-reviews/B07YTK6WY1/ref=cm_cr_arp_d_paging_btm_next_2?ie=UTF8&reviewerType=all_reviews&pageNumber={x}\"\n",
    "    soup = get_reviews(URL)\n",
    "    reviews(soup)\n",
    "    print(f'getting page: {x}')\n",
    "    print(len(reviews_list))\n",
    "    if not soup.find('li', {'class': 'a-disabled a-last'}):\n",
    "        pass\n",
    "    else:\n",
    "        break"
   ]
  },
  {
   "cell_type": "code",
   "execution_count": 7,
   "id": "2a9ae3b4",
   "metadata": {},
   "outputs": [],
   "source": [
    "df = pd.DataFrame(reviews_list)\n",
    "df.to_csv('redmi_not_8a_reviews.csv', index=False)"
   ]
  }
 ],
 "metadata": {
  "kernelspec": {
   "display_name": "Python 3 (ipykernel)",
   "language": "python",
   "name": "python3"
  },
  "language_info": {
   "codemirror_mode": {
    "name": "ipython",
    "version": 3
   },
   "file_extension": ".py",
   "mimetype": "text/x-python",
   "name": "python",
   "nbconvert_exporter": "python",
   "pygments_lexer": "ipython3",
   "version": "3.10.12"
  }
 },
 "nbformat": 4,
 "nbformat_minor": 5
}
